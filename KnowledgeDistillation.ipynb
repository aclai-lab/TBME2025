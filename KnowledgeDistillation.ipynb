{
 "cells": [
  {
   "cell_type": "code",
   "execution_count": 3,
   "metadata": {},
   "outputs": [
    {
     "name": "stderr",
     "output_type": "stream",
     "text": [
      "/home/l30/.local/lib/python3.12/site-packages/sklearn/base.py:380: InconsistentVersionWarning: Trying to unpickle estimator DecisionTreeClassifier from version 1.6.1 when using version 1.6.0. This might lead to breaking code or invalid results. Use at your own risk. For more info please refer to:\n",
      "https://scikit-learn.org/stable/model_persistence.html#security-maintainability-limitations\n",
      "  warnings.warn(\n",
      "/home/l30/.local/lib/python3.12/site-packages/sklearn/base.py:380: InconsistentVersionWarning: Trying to unpickle estimator RandomForestClassifier from version 1.6.1 when using version 1.6.0. This might lead to breaking code or invalid results. Use at your own risk. For more info please refer to:\n",
      "https://scikit-learn.org/stable/model_persistence.html#security-maintainability-limitations\n",
      "  warnings.warn(\n"
     ]
    }
   ],
   "source": [
    "import pandas as pd\n",
    "from sklearn.tree import DecisionTreeClassifier\n",
    "from sklearn.metrics import accuracy_score\n",
    "import pickle\n",
    "\n",
    "# Percorso della cartella dei risultati\n",
    "result_folder = 'ResidualProducts'\n",
    "\n",
    "# Carica il dataset originale\n",
    "df = pd.read_csv(f'{result_folder}/ID-Features-Vote.csv')\n",
    "\n",
    "# Carica il modello Random Forest addestrato\n",
    "with open(f'{result_folder}/random_forest_model_iteration_9.pkl', 'rb') as file:\n",
    "    rf_model = pickle.load(file)\n",
    "\n",
    "# Seleziona le features utilizzate dalla RF (supponiamo che siano le stesse del modello salvato)\n",
    "# Se hai salvato le features selezionate, puoi caricarle da un file o da una variabile\n",
    "selected_features = ['min_fixations_per_area',\n",
    "'max_fixations_per_area',\n",
    "'mean_fixations_per_area',\n",
    "'last_series_num_fixations',\n",
    "'last_is_longest_duration',\n",
    "'total_duration_fixations',\n",
    "'min_dilatation',\n",
    "'max_dilatation',\n",
    "'mean_dilatation',\n",
    "'std_dilatation',\n",
    "'instance_area_mean_dilatation_min',\n",
    "'instance_area_mean_dilatation_std',\n",
    "'is_max_dilatation_in_first_instance_area',\n",
    "'returns_to_initial_area',\n",
    "'initial_instance_area_duration_ms',\n",
    "'initial_instance_area_n_fixations']  # Sostituisci con le features effettive selezionate dalla RF\n"
   ]
  },
  {
   "cell_type": "code",
   "execution_count": 4,
   "metadata": {},
   "outputs": [
    {
     "name": "stdout",
     "output_type": "stream",
     "text": [
      "Dataset etichettato salvato in 'ResidualProducts/RFLabeled_ID-Features-Vote.csv'.\n",
      "Accuracy dell'albero decisionale sul training set: 1.0\n",
      "Albero decisionale salvato in 'ResidualProducts/decision_tree_mimic.pkl'.\n"
     ]
    }
   ],
   "source": [
    "\n",
    "# Crea il dataset con le features selezionate\n",
    "X = df[selected_features]\n",
    "\n",
    "# Usa la RF per predire le etichette (0 o 1)\n",
    "y_pred = rf_model.predict(X)\n",
    "\n",
    "# Aggiungi le etichette predette al dataset originale\n",
    "df['RFLabel'] = y_pred\n",
    "\n",
    "# Salva il nuovo dataset etichettato\n",
    "df.to_csv(f'{result_folder}/RFLabeled_ID-Features-Vote.csv', index=False)\n",
    "\n",
    "print(f\"Dataset etichettato salvato in '{result_folder}/RFLabeled_ID-Features-Vote.csv'.\")\n",
    "\n",
    "# Ora addestriamo un albero decisionale per mimare la RF\n",
    "# Separiamo le features e il target (le etichette predette dalla RF)\n",
    "X_train = df[selected_features]\n",
    "y_train = df['RFLabel']\n",
    "\n",
    "# Crea e addestra l'albero decisionale\n",
    "dt_model = DecisionTreeClassifier(random_state=42)\n",
    "dt_model.fit(X_train, y_train)\n",
    "\n",
    "# Valuta l'albero decisionale (opzionale, per verificare quanto bene mima la RF)\n",
    "y_pred_dt = dt_model.predict(X_train)\n",
    "accuracy = accuracy_score(y_train, y_pred_dt)\n",
    "print(f\"Accuracy dell'albero decisionale sul training set: {accuracy}\")\n",
    "\n",
    "# Save the final model to a file\n",
    "with open(f'{result_folder}/decision_tree_mimic.pkl', 'wb') as file:\n",
    "    pickle.dump(dt_model, file)\n",
    "\n",
    "print(f\"Albero decisionale salvato in '{result_folder}/decision_tree_mimic.pkl'.\")"
   ]
  },
  {
   "cell_type": "code",
   "execution_count": null,
   "metadata": {},
   "outputs": [],
   "source": []
  }
 ],
 "metadata": {
  "kernelspec": {
   "display_name": "Python 3",
   "language": "python",
   "name": "python3"
  },
  "language_info": {
   "codemirror_mode": {
    "name": "ipython",
    "version": 3
   },
   "file_extension": ".py",
   "mimetype": "text/x-python",
   "name": "python",
   "nbconvert_exporter": "python",
   "pygments_lexer": "ipython3",
   "version": "3.12.3"
  }
 },
 "nbformat": 4,
 "nbformat_minor": 2
}
